{
 "cells": [
  {
   "cell_type": "markdown",
   "metadata": {},
   "source": [
    "# Hospital Length of Stay\n",
    "\n",
    "In this solution template, we demonstrate how you could train machine learning models in SQL database in order to predict how long a newly admitted patient would stay in a hospital. \n",
    "\n",
    "Being able to predict future resource demand accurately and quickly is important in many scenarios. In this case, knowing how long a patient will likely to stay in the hospital can help us make an informed decision on resource allocation, as described earlier in [this article](https://blogs.msdn.microsoft.com/mlserver/2017/02/15/predicting-hospital-length-of-stay-los-using-sql-server-2016-with-r-services/). \n",
    "\n",
    "We have previously presented [the solution using SQL server 2016 with R](https://gallery.cortanaintelligence.com/Solution/Predicting-Length-of-Stay-in-Hospitals-1), which involves using RevoScaleR to process the data and train predictive models that are then operationalized in the SQL server machine. Data scientits can do their work entirely in R and save time by doing all the computation at the SQL Server machine in parallel and not limited by the memory of their client computer. \n",
    "\n",
    "This notebook covers the same idea but with Python and more focus on the codes. In SQL Server 2017, you can use Python to takes advantage of the power of SQL Server and revoscalepy. The tables are all stored in a SQL Server, and most of the computations are done by loading chunks of data in-memory instead of the whole dataset. \n",
    "\n",
    "We will go through the following: \n",
    "\n",
    " * **Step 0: Packages and Compute Contexts**\n",
    " * **Step 1: Processing and Cleaning**\n",
    " * **Step 2: Feature Engineering**\n",
    " * **Step 3: Training and Evaluating a Random Forest, Boosted Trees, Fast Trees, and a Neural Network**\n",
    " \n",
    "Check out [Microsoft Machine Learning Server](https://docs.microsoft.com/en-us/machine-learning-server/) for more details. You can use the search bar on the left to see definitions of the functions used in this template. "
   ]
  },
  {
   "cell_type": "markdown",
   "metadata": {},
   "source": [
    "## Step 0: Packages and Compute Contexts\n",
    "\n",
    "In this step, we set up the connection string to access a SQL Server Database and load the necessary packages. \n",
    "\n",
    "We will be using machine learning algorithms from both [revoscalepy](https://docs.microsoft.com/en-us/sql/advanced-analytics/python/what-is-revoscalepy) and [microsoftml](https://docs.microsoft.com/en-us/machine-learning-server/python-reference/microsoftml/microsoftml-package) Python libraries.  We encapsulated some code insides `length_of_stay_utils.py` to ease the reading of this template. You can see the code in the repository. "
   ]
  },
  {
   "cell_type": "code",
   "execution_count": 1,
   "metadata": {
    "collapsed": true
   },
   "outputs": [],
   "source": [
    "import os, sys\n",
    "from numpy import mean\n",
    "from math import sqrt\n",
    "import pyodbc\n",
    "from pandas import to_numeric, DataFrame\n",
    "\n",
    "import revoscalepy as rp \n",
    "import microsoftml as mml\n",
    "import length_of_stay_utils as utils"
   ]
  },
  {
   "cell_type": "markdown",
   "metadata": {},
   "source": [
    "We are creating a database called \"Hospital\" on our local SQL server. We will use this database to store the data, all the intermediate results, and the models and their prediction results. "
   ]
  },
  {
   "cell_type": "code",
   "execution_count": 2,
   "metadata": {
    "collapsed": true
   },
   "outputs": [],
   "source": [
    "# Choose a database name and create it. \n",
    "db = \"Hospital\"\n",
    "\n",
    "# Connect to the master database only to create a new database. \n",
    "master_connection_string = \"Driver=SQL Server;Server=localhost;Database=master;Trusted_Connection=Yes\"\n",
    "\n",
    "# Create a database if doesn't already exits yet. \n",
    "utils.create_database(master_connection_string, db)"
   ]
  },
  {
   "cell_type": "markdown",
   "metadata": {},
   "source": [
    "## Step 1: Uploading and inspecting the data\n",
    "\n",
    "In this step, we will \n",
    "\n",
    "* Upload the dataset to SQL so that we can perform computations in the SQL compute context. \n",
    "* Inspect the data to see if there is any preprocessing that needs to be done. "
   ]
  },
  {
   "cell_type": "code",
   "execution_count": 3,
   "metadata": {},
   "outputs": [
    {
     "data": {
      "text/plain": [
       "<revoscalepy.computecontext.RxLocalSeq.RxLocalSeq at 0x244622932b0>"
      ]
     },
     "execution_count": 3,
     "metadata": {},
     "output_type": "execute_result"
    }
   ],
   "source": [
    "# Set the compute context to local. \n",
    "localcc = rp.RxLocalSeq()\n",
    "rp.rx_set_compute_context(localcc)"
   ]
  },
  {
   "cell_type": "markdown",
   "metadata": {},
   "source": [
    "We will read in the data stored on our local machine and upload it to the SQL server for later use. See the description on the data [here](https://microsoft.github.io/r-server-hospital-length-of-stay/input_data.html)"
   ]
  },
  {
   "cell_type": "code",
   "execution_count": null,
   "metadata": {
    "collapsed": true,
    "scrolled": false
   },
   "outputs": [],
   "source": [
    "# Point to the input data set while specifying the types of the variables in each column.\n",
    "col_type_info = utils.get_los_col_info() \n",
    "LoS_text = rp.RxTextData(file = os.path.join(\"..\\\\Data\", \"LengthOfStay.csv\"), column_info=col_type_info)\n",
    "\n",
    "# Upload the data to the SQL server and call the table \"LengthOfStay\". \n",
    "connection_string = \"Driver=SQL Server;Server=localhost;Database=Hospital;Trusted_Connection=Yes\"\n",
    "LengthOfStay_sql = rp.RxSqlServerData(table = \"LengthOfStay\", connection_string = connection_string)\n",
    "rp.rx_data_step(input_data = LoS_text, output_file = LengthOfStay_sql, overwrite = True)"
   ]
  },
  {
   "cell_type": "markdown",
   "metadata": {},
   "source": [
    "Now that we have the data in the SQL server, we can then use RxSQLServerData to establish a data source and get data from the SQL server. Here, we are simply getting the variable names in the data. "
   ]
  },
  {
   "cell_type": "code",
   "execution_count": null,
   "metadata": {
    "collapsed": true
   },
   "outputs": [],
   "source": [
    "# First, get the names and types of the variables to be treated.\n",
    "data_sql = rp.RxSqlServerData(table = \"LengthOfStay\", connection_string = connection_string, stringsAsFactors = True)\n",
    "colnames = rp.rx_get_var_names(data_sql)\n",
    "\n",
    "# Get the names of the variables that actually have missing values. Assumption: no NA in eid, lengthofstay, or dates. \n",
    "variables = [x for x in colnames if x not in [\"eid\", \"lengthofstay\", \"vdate\", \"discharged\"]]\n",
    "f = \"+\".join(variables)\n",
    "summary = rp.rx_summary(formula = f, data = data_sql, by_term = True).summary_data_frame"
   ]
  },
  {
   "cell_type": "code",
   "execution_count": 6,
   "metadata": {},
   "outputs": [
    {
     "name": "stdout",
     "output_type": "stream",
     "text": [
      "False\n"
     ]
    }
   ],
   "source": [
    "var_with_NA = summary[summary[\"MissingObs\"] > 0]\n",
    "missing = False if var_with_NA.empty else True  \n",
    "print(missing)"
   ]
  },
  {
   "cell_type": "markdown",
   "metadata": {},
   "source": [
    "`rx_summary` gives us the mean, standard deviation, as well as the number of missing observation in each column that's a continuous variable. We see that we have no missing observations so we will continue to the next step. "
   ]
  },
  {
   "cell_type": "markdown",
   "metadata": {},
   "source": [
    "## Step 2: Feature Engineering\n",
    "\n",
    "In this step, we will:\n",
    "\n",
    "-  Standardize the continuous variables (Z-score).\n",
    "-  Create the variable number_of_issues: the number of preidentified medical conditions.\n"
   ]
  },
  {
   "cell_type": "code",
   "execution_count": null,
   "metadata": {
    "collapsed": true
   },
   "outputs": [],
   "source": [
    "# Continuous variables that we care about. \n",
    "measures = [\"hematocrit\", \"neutrophils\", \"sodium\", \"glucose\", \"bloodureanitro\", \n",
    "            \"creatinine\", \"bmi\", \"pulse\", \"respiration\"]\n",
    "\n",
    "# Get the mean and standard deviation those variables\n",
    "stats = [\"Mean\", \"StdDev\"]\n",
    "f = \"+\".join(measures)\n",
    "summary_stats = rp.rx_summary(formula = f, data = data_sql, by_term = True, summary_stats = stats).summary_data_frame"
   ]
  },
  {
   "cell_type": "code",
   "execution_count": 8,
   "metadata": {},
   "outputs": [
    {
     "name": "stdout",
     "output_type": "stream",
     "text": [
      "             Name        Mean     StdDev\n",
      "0      hematocrit   11.975939   2.031792\n",
      "1     neutrophils   10.177455   5.353131\n",
      "2          sodium  137.891397   2.999669\n",
      "3         glucose  141.963384  29.992996\n",
      "4  bloodureanitro   14.097185  12.952454\n",
      "5      creatinine    1.099350   0.200262\n",
      "6             bmi   29.805759   2.003769\n",
      "7           pulse   73.444720  11.644555\n",
      "8     respiration    6.493768   0.568473\n"
     ]
    }
   ],
   "source": [
    "print(summary_stats)"
   ]
  },
  {
   "cell_type": "markdown",
   "metadata": {},
   "source": [
    "With the summary statistics, we can then calculate the Z score of each continuous variable. We also want to add another column that summarizes how many health issues each patient has in their record. We can do both of these operations on our data by putting them in one transform function. `rx_data_step` can then transform the data as it reads data from the input data source and stores the result to the output data source. "
   ]
  },
  {
   "cell_type": "code",
   "execution_count": 9,
   "metadata": {
    "collapsed": true
   },
   "outputs": [],
   "source": [
    "def standardize(data, context):\n",
    "    for n, row in summary_stats.iterrows():\n",
    "        data[[row[\"Name\"]]] = (data[[row[\"Name\"]]] - row[\"Mean\"])/row[\"StdDev\"]\n",
    "    return data\n",
    "\n",
    "def calculate_number_of_issues(data, context):\n",
    "    issues = [\"hemo\", \"dialysisrenalendstage\", \"asthma\", \"irondef\", \"pneum\", \"substancedependence\", \n",
    "              \"psychologicaldisordermajor\", \"depress\", \"psychother\", \"fibrosisandother\", \"malnutrition\"]\n",
    "    data[\"number_of_issues\"] = sum([to_numeric(data[issue]) for issue in issues])\n",
    "    return data\n",
    "\n",
    "# Combine transform functions into one overarching transform.\n",
    "def transform(dataset, context):\n",
    "    data = standardize(dataset, context)\n",
    "    data = calculate_number_of_issues(data, context)\n",
    "    return data"
   ]
  },
  {
   "cell_type": "code",
   "execution_count": null,
   "metadata": {
    "collapsed": true
   },
   "outputs": [],
   "source": [
    "# Drop the LoS view in case the SQL Stored Procedure was executed in the same database before.\n",
    "utils.drop_view(\"LoS\", connection_string)\n",
    "\n",
    "# Standardize the cleaned table by wrapping it up in rxDataStep. \n",
    "LoS_sql = rp.RxSqlServerData(table = \"LoS\", connection_string = connection_string)\n",
    "rp.rx_data_step(input_data = data_sql, output_file = LoS_sql, overwrite = True, transform_function = transform)\n",
    "\n",
    "# Convert number_of_issues to character with a SQL query.\n",
    "utils.alter_column(\"LoS\", \"number_of_issues\", \"varchar(2)\", connection_string)\n",
    "utils.alter_column(\"LoS\", \"lengthofstay\", \"float\", connection_string)"
   ]
  },
  {
   "cell_type": "markdown",
   "metadata": {},
   "source": [
    "## Step 3: Training and Evaluating the Models\n",
    "\n",
    "In this step we:\n",
    "\n",
    "**1.** Split randomly the data set LoS into a training (LoS_train) and a testing (LoS_test) set.\n",
    " \n",
    "**2.** Train a Random Forest, Boosted Trees, Fast Trees, and Neural Network models on LoS_train using tools from revoscalepy and microsoftml, and save them to SQL. \n",
    "\n",
    "**3.** Score the models on LoS_test in SQL compute context. \n",
    "\n",
    "**Input:** Data set LoS.\n",
    "\n",
    "**Output:** Random forest, Boosted Trees, Fast Trees, and Neural Network models saved to SQL and performance metrics.  "
   ]
  },
  {
   "cell_type": "markdown",
   "metadata": {},
   "source": [
    "Here we will train various machine learning models. In order to evaluate them, we will split our data into 70% training and the rest of 30% for testing. "
   ]
  },
  {
   "cell_type": "code",
   "execution_count": null,
   "metadata": {
    "collapsed": true
   },
   "outputs": [],
   "source": [
    "# Point to the SQL table with the data set for modeling. Strings will be converted to factors.\n",
    "LoS = rp.RxSqlServerData(table = \"LoS\", connection_string = connection_string, strings_as_factors = True)\n",
    "\n",
    "# Randomly split the data into a 70% training set and a 30% testing set. \n",
    "LoS_train, LoS_test = utils.make_train_test_data(LoS, 70, connection_string, \"eid\", \"LoS\", \"Train_Id\")"
   ]
  },
  {
   "cell_type": "markdown",
   "metadata": {},
   "source": [
    "Here we create the formula that we will use to create different machine learning models to predict the length of stay. "
   ]
  },
  {
   "cell_type": "code",
   "execution_count": null,
   "metadata": {
    "collapsed": true
   },
   "outputs": [],
   "source": [
    "# Create the formula for training a decision forest model. \n",
    "variables_all = rp.rx_get_var_names(LoS)\n",
    "variables_to_remove = [\"eid\", \"vdate\", \"discharged\", \"facid\"]\n",
    "formula = utils.create_formula(\"lengthofstay\", variables_all, variables_to_remove)"
   ]
  },
  {
   "cell_type": "markdown",
   "metadata": {},
   "source": [
    "Here we define a function that stores a machine learning model to a table in our database. `write_rts_model` is currently only supported in the local compute context so we will set compute context to local, whereas training of the models is done in the SQL compute context. Besides the key to identify the model, you can also specify the version of the model to better manage your machine learning workflow. "
   ]
  },
  {
   "cell_type": "code",
   "execution_count": 13,
   "metadata": {
    "collapsed": true
   },
   "outputs": [],
   "source": [
    "# The compute context is set to local in order to export the model.\n",
    "rp.rx_set_compute_context(localcc)\n",
    "\n",
    "# Real-time scoring models will be serialized and stored in the same table and be retrieved by their keys. \n",
    "def write_rts_model(model, key, connection_string):\n",
    "    RTS_odbc = rp.RxOdbcData(connection_string, table=\"RTS\")\n",
    "    serialized_model = rp.rx_serialize_model(model, realtime_scoring_only=True)\n",
    "    rp.rx_write_object(RTS_odbc, key=key, value=serialized_model, serialize=False, compress=None, overwrite=True)"
   ]
  },
  {
   "cell_type": "markdown",
   "metadata": {},
   "source": [
    "With the formula and the training set, we can now create four different models. Training these models is done in the SQL compute context. This means that you can leverage the compute power of your SQL server to train these models without pulling data to your local computer. You can then save the model in the SQL database to use it later in the scoring.  "
   ]
  },
  {
   "cell_type": "markdown",
   "metadata": {},
   "source": [
    "\n",
    "### Random Forest (revoscalepy)"
   ]
  },
  {
   "cell_type": "code",
   "execution_count": null,
   "metadata": {
    "collapsed": true
   },
   "outputs": [],
   "source": [
    "# Train a random decision forest in a SQL compute context. It's better to explicitly set 'max_num_bins' and 'min_split'.\n",
    "sql = rp.RxInSqlServer(connection_string=connection_string)\n",
    "num_rows = utils.get_num_rows(\"Train_Id\", connection_string)\n",
    "forest_model = rp.rx_dforest(formula = formula, data=LoS_train, max_num_bins=int(sqrt(num_rows)), \n",
    "                             min_split=int(sqrt(num_rows)),compute_context=sql)\n",
    "\n",
    "# Save the Random Forest in SQL. \n",
    "write_rts_model(forest_model, \"RF\", connection_string)"
   ]
  },
  {
   "cell_type": "markdown",
   "metadata": {},
   "source": [
    "### Boosted Tree Model (revoscalepy)"
   ]
  },
  {
   "cell_type": "code",
   "execution_count": null,
   "metadata": {
    "collapsed": true
   },
   "outputs": [],
   "source": [
    "# Train a boosted trees model. It's better to explicitly set 'max_num_bins' and 'min_split'. \n",
    "boosted_model = rp.rx_btrees(formula=formula, data=LoS_train, loss_function=\"gaussian\", \n",
    "                             max_num_bins=int(sqrt(num_rows)), min_split=int(sqrt(num_rows)), compute_context=sql) \n",
    "# Save the model in SQL. \n",
    "write_rts_model(boosted_model, \"GBT\", connection_string)"
   ]
  },
  {
   "cell_type": "markdown",
   "metadata": {},
   "source": [
    "### Fast tree model  (microsoftml)"
   ]
  },
  {
   "cell_type": "code",
   "execution_count": null,
   "metadata": {
    "collapsed": true
   },
   "outputs": [],
   "source": [
    "# Train the Fast Trees model.\n",
    "fast_model = mml.rx_fast_trees(formula=formula, data=LoS_train, method=\"regression\", compute_context=sql)\n",
    "# Save the Fast Trees in SQL. \n",
    "write_rts_model(fast_model, \"FT\", connection_string)"
   ]
  },
  {
   "cell_type": "markdown",
   "metadata": {},
   "source": [
    "### Neural network model (microsoftml)"
   ]
  },
  {
   "cell_type": "code",
   "execution_count": null,
   "metadata": {
    "collapsed": true
   },
   "outputs": [],
   "source": [
    "# Train the Neural Network model.\n",
    "NN_model = mml.rx_neural_network(formula=formula, data=LoS_train, method=\"regression\", compute_context=sql)\n",
    "# Save the model. \n",
    "write_rts_model(NN_model, \"NN\", connection_string)"
   ]
  },
  {
   "cell_type": "markdown",
   "metadata": {},
   "source": [
    "## Scoring \n",
    "\n",
    "We will now evaluate each of the models we have trained by making predictions on the testing data and then calculate some measures of errors."
   ]
  },
  {
   "cell_type": "code",
   "execution_count": 18,
   "metadata": {
    "collapsed": true
   },
   "outputs": [],
   "source": [
    "rp.rx_set_compute_context(sql)\n",
    "\n",
    "def model_scoring(table_name, connection_str, model, test_data, predict_func):\n",
    "    \"\"\" Make prediction on the test_data using the model and store the result to `table_name` \"\"\"\n",
    "    prediction_sql = rp.RxSqlServerData(table = table_name,\n",
    "                                        strings_as_factors = True,\n",
    "                                        connection_string = connection_str)\n",
    "    predict_func(model, data = test_data, output_data = prediction_sql,\n",
    "              type = \"response\", extra_vars_to_write = [\"lengthofstay\", \"eid\"], overwrite = True)\n",
    "    return prediction_sql"
   ]
  },
  {
   "cell_type": "markdown",
   "metadata": {},
   "source": [
    "### Random Forest scoring"
   ]
  },
  {
   "cell_type": "code",
   "execution_count": null,
   "metadata": {
    "collapsed": true
   },
   "outputs": [],
   "source": [
    "# Make predictions, then store it in \"Forest_Prediction\"\n",
    "forest_prediction_sql = model_scoring(\"Forest_Prediction\", connection_string, forest_model, LoS_test, rp.rx_predict)\n",
    "\n",
    "# Compute the performance metrics of the model.\n",
    "forest_prediction = rp.rx_import(input_data = forest_prediction_sql)\n",
    "forest_metrics = utils.evaluate_model(observed = forest_prediction['lengthofstay'],\n",
    "                                predicted = forest_prediction['lengthofstay_Pred'],\n",
    "                                model = \"RF\")"
   ]
  },
  {
   "cell_type": "markdown",
   "metadata": {},
   "source": [
    "### Boosted trees"
   ]
  },
  {
   "cell_type": "code",
   "execution_count": null,
   "metadata": {
    "collapsed": true,
    "scrolled": true
   },
   "outputs": [],
   "source": [
    "# Make Predictions then store it in \"Boosted_Prediction\"\n",
    "boosted_prediction_sql = model_scoring(\"Boosted_Prediction\", connection_string, boosted_model, LoS_test, rp.rx_predict)\n",
    "\n",
    "# Compute the performance metrics of the model.\n",
    "boosted_prediction = rp.rx_import(input_data = boosted_prediction_sql)\n",
    "boosted_metrics = utils.evaluate_model(observed = boosted_prediction['lengthofstay'],\n",
    "                                 predicted = boosted_prediction['lengthofstay_Pred'],\n",
    "                                 model = \"GBT\")"
   ]
  },
  {
   "cell_type": "markdown",
   "metadata": {},
   "source": [
    "### Fast trees"
   ]
  },
  {
   "cell_type": "code",
   "execution_count": null,
   "metadata": {
    "collapsed": true
   },
   "outputs": [],
   "source": [
    "# Make Predictions, then write them to \"Fast_Prediction\".\n",
    "fast_prediction_sql = model_scoring(\"Fast_Prediction\", connection_string, fast_model, LoS_test, mml.rx_predict)\n",
    "\n",
    "# Compute the performance metrics of the model.\n",
    "fast_prediction = rp.rx_import(input_data=fast_prediction_sql)\n",
    "fast_metrics = utils.evaluate_model(observed=fast_prediction['lengthofstay'], predicted=fast_prediction['Score'], model=\"FT\")\n"
   ]
  },
  {
   "cell_type": "markdown",
   "metadata": {},
   "source": [
    "### Neural network"
   ]
  },
  {
   "cell_type": "code",
   "execution_count": null,
   "metadata": {
    "collapsed": true
   },
   "outputs": [],
   "source": [
    "# Make Predictions, then write them to a table.\n",
    "NN_prediction_sql = model_scoring(\"NN_Prediction\", connection_string, NN_model, LoS_test, mml.rx_predict)\n",
    "\n",
    "# Compute the performance metrics of the model.\n",
    "NN_prediction = rp.rx_import(input_data=NN_prediction_sql)\n",
    "NN_metrics = utils.evaluate_model(observed=NN_prediction['lengthofstay'], predicted=NN_prediction['Score'], model=\"NN\")"
   ]
  },
  {
   "cell_type": "markdown",
   "metadata": {},
   "source": [
    "## Looking at predictions\n",
    "We can now use the predictions made from the model to estimate the length of stay for each patient. Here we can peak at the actual length of stay versus the predicted length of stay from the fast tree model. "
   ]
  },
  {
   "cell_type": "code",
   "execution_count": null,
   "metadata": {
    "collapsed": true
   },
   "outputs": [],
   "source": [
    "# Write to Master Predictions Table (LoS_Predictions)\n",
    "query = \"\"\"SELECT LengthOfStay.eid, LoS.lengthofstay,\n",
    "               CONVERT(DATE, CONVERT(DATETIME, LengthOfStay.vdate, 110) + CAST(ROUND(Score, 0) as int), 110) as discharged_Pred,\n",
    "               CAST(ROUND(Score, 0) as int) as lengthofstay_Pred\n",
    "         FROM LoS JOIN Fast_Prediction ON LoS.eid = Fast_Prediction.eid JOIN LengthOfStay ON LoS.eid = LengthOfStay.eid;\"\"\"\n",
    "results_sql = rp.RxSqlServerData(sql_query=query, connection_string=connection_string)\n",
    "results_sql.head()"
   ]
  },
  {
   "cell_type": "markdown",
   "metadata": {},
   "source": [
    "## Model comparision\n",
    "\n",
    "With the error metrics of the four models, we can then compare how well each model performs. This would depend on how you wish to compare different models. There are also other parameters you can use in the model training functions that we omitted for simplicity but you can use to further refine the models. "
   ]
  },
  {
   "cell_type": "code",
   "execution_count": 25,
   "metadata": {},
   "outputs": [
    {
     "data": {
      "text/html": [
       "<div>\n",
       "<table border=\"1\" class=\"dataframe\">\n",
       "  <thead>\n",
       "    <tr style=\"text-align: right;\">\n",
       "      <th></th>\n",
       "      <th>coefficient_of_determination</th>\n",
       "      <th>mean_absolute_error</th>\n",
       "      <th>relative_absolute_error</th>\n",
       "      <th>relative_squared_error</th>\n",
       "      <th>root_mean_squared_error</th>\n",
       "    </tr>\n",
       "    <tr>\n",
       "      <th>model_name</th>\n",
       "      <th></th>\n",
       "      <th></th>\n",
       "      <th></th>\n",
       "      <th></th>\n",
       "      <th></th>\n",
       "    </tr>\n",
       "  </thead>\n",
       "  <tbody>\n",
       "    <tr>\n",
       "      <th>RF</th>\n",
       "      <td>0.845799</td>\n",
       "      <td>0.677762</td>\n",
       "      <td>0.353710</td>\n",
       "      <td>0.154201</td>\n",
       "      <td>0.925846</td>\n",
       "    </tr>\n",
       "    <tr>\n",
       "      <th>GBT</th>\n",
       "      <td>0.374156</td>\n",
       "      <td>1.496279</td>\n",
       "      <td>0.780877</td>\n",
       "      <td>0.625844</td>\n",
       "      <td>1.865215</td>\n",
       "    </tr>\n",
       "    <tr>\n",
       "      <th>FT</th>\n",
       "      <td>0.968310</td>\n",
       "      <td>0.309405</td>\n",
       "      <td>0.161472</td>\n",
       "      <td>0.031690</td>\n",
       "      <td>0.419718</td>\n",
       "    </tr>\n",
       "    <tr>\n",
       "      <th>NN</th>\n",
       "      <td>0.899001</td>\n",
       "      <td>0.542707</td>\n",
       "      <td>0.283227</td>\n",
       "      <td>0.100999</td>\n",
       "      <td>0.749297</td>\n",
       "    </tr>\n",
       "  </tbody>\n",
       "</table>\n",
       "</div>"
      ],
      "text/plain": [
       "            coefficient_of_determination  mean_absolute_error  \\\n",
       "model_name                                                      \n",
       "RF                              0.845799             0.677762   \n",
       "GBT                             0.374156             1.496279   \n",
       "FT                              0.968310             0.309405   \n",
       "NN                              0.899001             0.542707   \n",
       "\n",
       "            relative_absolute_error  relative_squared_error  \\\n",
       "model_name                                                    \n",
       "RF                         0.353710                0.154201   \n",
       "GBT                        0.780877                0.625844   \n",
       "FT                         0.161472                0.031690   \n",
       "NN                         0.283227                0.100999   \n",
       "\n",
       "            root_mean_squared_error  \n",
       "model_name                           \n",
       "RF                         0.925846  \n",
       "GBT                        1.865215  \n",
       "FT                         0.419718  \n",
       "NN                         0.749297  "
      ]
     },
     "execution_count": 25,
     "metadata": {},
     "output_type": "execute_result"
    }
   ],
   "source": [
    "models = [forest_metrics, boosted_metrics, fast_metrics, NN_metrics]\n",
    "summary = utils.create_summary_dataframe(models)\n",
    "summary = summary.set_index(\"model_name\")\n",
    "summary"
   ]
  },
  {
   "cell_type": "code",
   "execution_count": 26,
   "metadata": {},
   "outputs": [
    {
     "data": {
      "text/plain": [
       "<matplotlib.axes._subplots.AxesSubplot at 0x24464e313c8>"
      ]
     },
     "execution_count": 26,
     "metadata": {},
     "output_type": "execute_result"
    },
    {
     "data": {
      "image/png": "[encoded data removed]",
      "text/plain": [
       "<matplotlib.figure.Figure at 0x244648591d0>"
      ]
     },
     "metadata": {},
     "output_type": "display_data"
    }
   ],
   "source": [
    "%matplotlib inline\n",
    "summary.plot(kind=\"bar\", figsize=(10, 5))"
   ]
  },
  {
   "cell_type": "markdown",
   "metadata": {},
   "source": [
    "## Summary\n",
    "In this template, you have seen how we can use revoscalepy and microsoftml to:\n",
    "- read and store data on SQL server\n",
    "- train and store machine learning models on SQL server \n",
    "- make fast, real-time prediction with the models \n",
    "\n",
    "This is part of our story of bringing intelligence to where the data live. Not only that this eliminates the need to move data between machines, it also allows us to leverage the computation power of the SQL server to do multithreading and parallel processing. Check out [this article](https://docs.microsoft.com/en-us/sql/advanced-analytics/getting-started-with-machine-learning-services) for more Microsoft's machine learning solutions with SQL platform. \n",
    "\n",
    "revoscalepy and microsoftml also have their R implementations ([RevoScaleR](https://docs.microsoft.com/en-us/machine-learning-server/r-reference/revoscaler/revoscaler) and [MicrosoftML](https://docs.microsoft.com/en-us/machine-learning-server/r-reference/microsoftml/microsoftml-package)), so you can do your work with whichever language you prefer without being restricted by the size of the dataset and limited memory of your client computer. "
   ]
  }
 ],
 "metadata": {
  "anaconda-cloud": {},
  "celltoolbar": "Raw Cell Format",
  "kernelspec": {
   "display_name": "Python [default]",
   "language": "python",
   "name": "python3"
  },
  "language_info": {
   "codemirror_mode": {
    "name": "ipython",
    "version": 3
   },
   "file_extension": ".py",
   "mimetype": "text/x-python",
   "name": "python",
   "nbconvert_exporter": "python",
   "pygments_lexer": "ipython3",
   "version": "3.5.2"
  }
 },
 "nbformat": 4,
 "nbformat_minor": 1
}
